{
 "cells": [
  {
   "cell_type": "code",
   "execution_count": 2,
   "id": "ef41ebb0-a857-465a-b97d-d22fa6564143",
   "metadata": {},
   "outputs": [
    {
     "data": {
      "text/plain": [
       "'<a>Hello</a>'"
      ]
     },
     "execution_count": 2,
     "metadata": {},
     "output_type": "execute_result"
    }
   ],
   "source": [
    "def tag(tag_name):\n",
    "    def add_tag(content):\n",
    "        return \"<{0}>{1}</{0}>\".format(tag_name, content)\n",
    "    return add_tag\n",
    " \n",
    "content = 'Hello'\n",
    " \n",
    "add_tag = tag('a')\n",
    "add_tag(content)\n",
    "# <a>Hello</a>"
   ]
  },
  {
   "cell_type": "code",
   "execution_count": 3,
   "id": "5adca04e-ddac-4000-b4b7-8ed8f0d96da7",
   "metadata": {},
   "outputs": [
    {
     "name": "stdout",
     "output_type": "stream",
     "text": [
      "[INFO]: enter function say()\n",
      "say hello!\n",
      "[DEBUG]: enter function do()\n",
      "do my work...\n"
     ]
    }
   ],
   "source": [
    "def logging(level):\n",
    "    def wrapper(func):\n",
    "        def inner_wrapper(*args, **kwargs):\n",
    "            print(\"[{level}]: enter function {func}()\".format(\n",
    "                level=level,\n",
    "                func=func.__name__))\n",
    "            return func(*args, **kwargs)\n",
    "        return inner_wrapper\n",
    "    return wrapper\n",
    " \n",
    "@logging(level='INFO')\n",
    "def say(something):\n",
    "    print(\"say {}!\".format(something))\n",
    " \n",
    "# 如果没有使用@语法，等同于\n",
    "# say = logging(level='INFO')(say)\n",
    " \n",
    "@logging(level='DEBUG')\n",
    "def do(something):\n",
    "    print(\"do {}...\".format(something))\n",
    " \n",
    "say('hello')\n",
    "do(\"my work\")"
   ]
  },
  {
   "cell_type": "code",
   "execution_count": 5,
   "id": "c9ef9f39-3fa5-4d40-b959-2e31f98e67aa",
   "metadata": {},
   "outputs": [
    {
     "name": "stdout",
     "output_type": "stream",
     "text": [
      "[DEBUG]: enter function say()\n",
      "say hello!\n"
     ]
    }
   ],
   "source": [
    "class logging(object):\n",
    "    def __init__(self, func):\n",
    "        self.func = func\n",
    " \n",
    "    def __call__(self, *args, **kwargs):\n",
    "        print(\"[DEBUG]: enter function {func}()\".format(\n",
    "            func=self.func.__name__))\n",
    "        return self.func(*args, **kwargs)\n",
    "@logging\n",
    "def say(something):\n",
    "    print(\"say {}!\".format(something))\n",
    "\n",
    "say('hello')"
   ]
  },
  {
   "cell_type": "code",
   "execution_count": 6,
   "metadata": {},
   "outputs": [
    {
     "name": "stdout",
     "output_type": "stream",
     "text": [
      "[INFO]: enter function say()\n",
      "say hello!\n"
     ]
    }
   ],
   "source": [
    "class logging(object):\n",
    "    def __init__(self, level='INFO'):\n",
    "        self.level = level\n",
    "        \n",
    "    def __call__(self, func): # 接受函数\n",
    "        def wrapper(*args, **kwargs):\n",
    "            print(\"[{level}]: enter function {func}()\".format(\n",
    "                level=self.level,\n",
    "                func=func.__name__))\n",
    "            func(*args, **kwargs)\n",
    "        return wrapper  #返回函数\n",
    " \n",
    "@logging(level='INFO')\n",
    "def say(something):\n",
    "    print(\"say {}!\".format(something))\n",
    "\n",
    "say('hello')"
   ]
  },
  {
   "cell_type": "code",
   "execution_count": 9,
   "metadata": {},
   "outputs": [
    {
     "ename": "TypeError",
     "evalue": "staticmethod expected 1 argument, got 0",
     "output_type": "error",
     "traceback": [
      "\u001b[1;31m---------------------------------------------------------------------------\u001b[0m",
      "\u001b[1;31mTypeError\u001b[0m                                 Traceback (most recent call last)",
      "\u001b[1;32me:\\Programs\\mindspoe\\ms-learning\\Untitled.ipynb Cell 5\u001b[0m line \u001b[0;36m2\n\u001b[0;32m      <a href='vscode-notebook-cell:/e%3A/Programs/mindspoe/ms-learning/Untitled.ipynb#W4sZmlsZQ%3D%3D?line=0'>1</a>\u001b[0m \u001b[39mproperty\u001b[39m()\n\u001b[1;32m----> <a href='vscode-notebook-cell:/e%3A/Programs/mindspoe/ms-learning/Untitled.ipynb#W4sZmlsZQ%3D%3D?line=1'>2</a>\u001b[0m \u001b[39mstaticmethod\u001b[39;49m()\n\u001b[0;32m      <a href='vscode-notebook-cell:/e%3A/Programs/mindspoe/ms-learning/Untitled.ipynb#W4sZmlsZQ%3D%3D?line=2'>3</a>\u001b[0m \u001b[39mclassmethod\u001b[39m()\n",
      "\u001b[1;31mTypeError\u001b[0m: staticmethod expected 1 argument, got 0"
     ]
    }
   ],
   "source": [
    "property()\n",
    "staticmethod()\n",
    "classmethod()"
   ]
  }
 ],
 "metadata": {
  "kernelspec": {
   "display_name": "Python 3 (ipykernel)",
   "language": "python",
   "name": "python3"
  },
  "language_info": {
   "codemirror_mode": {
    "name": "ipython",
    "version": 3
   },
   "file_extension": ".py",
   "mimetype": "text/x-python",
   "name": "python",
   "nbconvert_exporter": "python",
   "pygments_lexer": "ipython3",
   "version": "3.9.6"
  }
 },
 "nbformat": 4,
 "nbformat_minor": 5
}
