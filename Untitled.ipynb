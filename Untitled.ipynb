{
 "cells": [
  {
   "cell_type": "code",
   "execution_count": 8,
   "id": "ef41ebb0-a857-465a-b97d-d22fa6564143",
   "metadata": {},
   "outputs": [
    {
     "data": {
      "text/plain": [
       "'<b>Hello</b>'"
      ]
     },
     "execution_count": 8,
     "metadata": {},
     "output_type": "execute_result"
    }
   ],
   "source": [
    "def tag(tag_name):\n",
    "    def add_tag(content):\n",
    "        return \"<{0}>{1}</{0}>\".format(tag_name, content)\n",
    "    return add_tag\n",
    " \n",
    "content = 'Hello'\n",
    " \n",
    "add_tag = tag('a')\n",
    "add_tag(content)\n",
    "# <a>Hello</a>\n",
    " \n",
    "add_tag = tag('b')\n",
    "add_tag(content)\n",
    "# <b>Hello</b>"
   ]
  },
  {
   "cell_type": "code",
   "execution_count": 9,
   "id": "5adca04e-ddac-4000-b4b7-8ed8f0d96da7",
   "metadata": {},
   "outputs": [
    {
     "name": "stdout",
     "output_type": "stream",
     "text": [
      "[INFO]: enter function say()\n",
      "say hello!\n",
      "[DEBUG]: enter function do()\n",
      "do my work...\n"
     ]
    }
   ],
   "source": [
    "def logging(level):\n",
    "    def wrapper(func):\n",
    "        def inner_wrapper(*args, **kwargs):\n",
    "            print(\"[{level}]: enter function {func}()\".format(\n",
    "                level=level,\n",
    "                func=func.__name__))\n",
    "            return func(*args, **kwargs)\n",
    "        return inner_wrapper\n",
    "    return wrapper\n",
    " \n",
    "@logging(level='INFO')\n",
    "def say(something):\n",
    "    print(\"say {}!\".format(something))\n",
    " \n",
    "# 如果没有使用@语法，等同于\n",
    "# say = logging(level='INFO')(say)\n",
    " \n",
    "@logging(level='DEBUG')\n",
    "def do(something):\n",
    "    print(\"do {}...\".format(something))\n",
    " \n",
    "say('hello')\n",
    "do(\"my work\")"
   ]
  },
  {
   "cell_type": "code",
   "execution_count": null,
   "id": "c9ef9f39-3fa5-4d40-b959-2e31f98e67aa",
   "metadata": {},
   "outputs": [],
   "source": []
  }
 ],
 "metadata": {
  "kernelspec": {
   "display_name": "Python 3 (ipykernel)",
   "language": "python",
   "name": "python3"
  },
  "language_info": {
   "codemirror_mode": {
    "name": "ipython",
    "version": 3
   },
   "file_extension": ".py",
   "mimetype": "text/x-python",
   "name": "python",
   "nbconvert_exporter": "python",
   "pygments_lexer": "ipython3",
   "version": "3.11.5"
  }
 },
 "nbformat": 4,
 "nbformat_minor": 5
}
